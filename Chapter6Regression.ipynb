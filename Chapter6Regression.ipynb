{
  "nbformat": 4,
  "nbformat_minor": 0,
  "metadata": {
    "colab": {
      "provenance": [],
      "authorship_tag": "ABX9TyNPkFgR5XqUe5od+kCwK52w",
      "include_colab_link": true
    },
    "kernelspec": {
      "name": "python3",
      "display_name": "Python 3"
    },
    "language_info": {
      "name": "python"
    }
  },
  "cells": [
    {
      "cell_type": "markdown",
      "metadata": {
        "id": "view-in-github",
        "colab_type": "text"
      },
      "source": [
        "<a href=\"https://colab.research.google.com/github/Dreadwolf26/MLBeginnerNotesKindleBook/blob/main/Chapter6Regression.ipynb\" target=\"_parent\"><img src=\"https://colab.research.google.com/assets/colab-badge.svg\" alt=\"Open In Colab\"/></a>"
      ]
    },
    {
      "cell_type": "markdown",
      "source": [
        "# 6.1 What is regression?\n",
        "\n",
        "**FULL DISCLOSURE**\n",
        "\n",
        "**THIS SECTION OF THE BOOK WAS DIFFICULT AND FOR STUDY PURPOSES I UTLIZED CHATGPT TO ASSIST ME WITH COMMENT THE CODE AFTER FOLLOWING AND UNDERSTANDING IT FROM THE BOOK**\n",
        "\n",
        "**Resgression** is a form of analysis that attempts to determine the relationship between a dependent variable (target variable) and a series of other variables (independent variable, predictor variables, or features). After determing the relationship we can use it to make predicitons for the target variable when given new feature values.\n",
        "\n",
        "The target variables in regression can take on continous valus such as ( 1.234, 31.23 and 9.131) This is of course in contrast to classification where the targeter variable can only take discrete vales (1,2,3 or Male and Female)\n",
        "\n",
        "There are many machine learning algos for regression a few are:\n",
        "\n",
        "- Linear Regression\n",
        "- Polynomial Regression\n",
        "- Support Vector Regression\n",
        "\n",
        "This chapter will only discuss Linear and Polynomial regression. I have defined support vector Regression below from ChatGPT just as an overall explanation since it is not covered in the current book I am in:\n",
        "\n",
        "#Support Vector Regression\n",
        "\n",
        "Support Vector Regression (SVR) is a type of Support Vector Machine (SVM) that is used for regression tasks. SVMs are more commonly known for classification, but by applying them to regression, we can predict continuous outcomes, as opposed to discrete classes. Here's a breakdown of how SVR works, which you can use for your notes:\n",
        "\n",
        "### Basic Concept:\n",
        "\n",
        "- **Objective**: The main idea behind SVR is to find a function (or hyperplane in higher-dimensional space) that has at most ε (epsilon) deviation from the actual target values for all training data points, while also being as flat as possible. This means it tries to fit the error within a certain threshold and doesn't care about errors as long as they are less than ε.\n",
        "\n",
        "### Key Components of SVR:\n",
        "\n",
        "- **Epsilon (ε) Tube**: SVR creates an ε-insensitive tube (or band) around the regression line. Points that fall within this tube are considered acceptable predictions and do not contribute to the loss in the model. This parameter helps control the width of the tube and, thus, the margin of tolerance within which predictions are considered acceptable.\n",
        "  \n",
        "- **Support Vectors**: Similar to SVM classification, support vectors in SVR are the data points that are closest to the boundary of the ε tube. These points are critical in defining the position and orientation of the hyperplane.\n",
        "\n",
        "- **Kernel Function**: SVR uses kernel functions to transform the input data into a higher-dimensional space where a linear regression line can be fitted. Common kernels include linear, polynomial, and radial basis function (RBF). The choice of kernel can greatly affect the model's performance and its ability to capture complex relationships in the data.\n",
        "\n",
        "### Loss Function:\n",
        "\n",
        "- The loss function for SVR is known as the ε-insensitive loss, which means errors are only penalized if they are greater than ε. This approach makes the model robust to outliers and allows for some errors within a specified margin.\n",
        "\n",
        "### Advantages of SVR:\n",
        "\n",
        "- **Flexibility**: The use of different kernel functions makes SVR very flexible for capturing non-linear relationships.\n",
        "- **Robustness**: SVR is robust to outliers because it focuses on minimizing the ε-insensitive loss and maximizing the flatness of the model.\n",
        "- **Optimization**: The problem of finding the optimal hyperplane is a convex optimization problem, which means there is only one global minimum, and it can be efficiently solved.\n",
        "\n",
        "### Disadvantages of SVR:\n",
        "\n",
        "- **Parameter Selection**: Choosing the right parameters (C, ε, and the kernel parameters) can be challenging and requires cross-validation or grid search techniques.\n",
        "- **Scalability**: SVR can be computationally intensive, especially with large datasets and certain kernel functions.\n",
        "\n",
        "### Use Cases:\n",
        "\n",
        "SVR can be applied to various regression tasks such as predicting prices, weather forecasting, and any scenario where predicting continuous variables is required.\n",
        "\n",
        "In summary, SVR provides a powerful and flexible method for regression analysis, capable of handling both linear and non-linear data. Its robustness to outliers and ability to model complex relationships make it a valuable tool in the machine learning practitioner's toolkit."
      ],
      "metadata": {
        "id": "m7kqcdvUqS3h"
      }
    },
    {
      "cell_type": "markdown",
      "source": [
        "# 6.2 Linear Regression\n",
        "\n",
        "Linear regression tries to find linear relationship between the target and predictor variables. We can express the relationship as:\n",
        "![image.png](data:image/png;base64,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)\n",
        "Where y is the target and $x_{1}x_{2}$\n",
        " are predictor variables or features.\n",
        "\n",
        " Linear regression that only involves one feature is known as simple linear regression while that with multiple features is known as multiple linear regression $a_{0}a_{1}...a_{n}$ are known as paramaters (also known as coefficients or weights.) The main objective of linear regression algo is to determine the best values for these params\n",
        "\n",
        " The idea behind **linear regression** is straightforward. The algo tries to draw a line that best fits the given data. This line is known as the regression line and presents the predicted values generate by the algo.\n",
        "\n",
        " **Choosing the best line**\n",
        "\n",
        " We need to minimize what is known as the cost function. A commonly used cost function is **Mean Squared error (MSE)** A data point's error refers to the distance between its predicted and actual value. The error is known as a **residual**. The objective is to find the set of params that results in the smallest MSE.\n",
        "\n",
        " In theory Linear regression needs to consider all possible values of the parameters and a select set of parameters that will result in a line with the smallest MSE. This however is impossible to do so because there is an infinite number of possible values. So the algorithm uses math techniques to find the set of optimal parameters instead. These techniques include solving a matrix equation known as the normal equation or using a technique called gradient descent to try different sets of params iteratively. We can use the **linearRegression** class to solve the programmatically.\n",
        "\n"
      ],
      "metadata": {
        "id": "FGmp2GAgoJeo"
      }
    },
    {
      "cell_type": "markdown",
      "source": [
        "# 6.3 Linear regression with Scikit-Learn\n",
        "\n",
        "We will be building a **LinearRegression** model with the **LinearRegression** class based on the housing.csv file\n",
        "\n",
        "See sample code below:"
      ],
      "metadata": {
        "id": "8O9pRFPDvsdd"
      }
    },
    {
      "cell_type": "code",
      "execution_count": 17,
      "metadata": {
        "id": "LbfVZVrulotu",
        "colab": {
          "base_uri": "https://localhost:8080/",
          "height": 206
        },
        "outputId": "4c03155d-dbde-4760-8422-1334b1c647d4"
      },
      "outputs": [
        {
          "output_type": "execute_result",
          "data": {
            "text/plain": [
              "   Floor Area (sqft)  Value ($1000)\n",
              "0              665.0          161.0\n",
              "1              442.0           83.0\n",
              "2              302.0           53.0\n",
              "3              336.0           57.0\n",
              "4              673.0          152.0"
            ],
            "text/html": [
              "\n",
              "  <div id=\"df-5376da45-7cb2-4842-ad99-86a4d1be164e\" class=\"colab-df-container\">\n",
              "    <div>\n",
              "<style scoped>\n",
              "    .dataframe tbody tr th:only-of-type {\n",
              "        vertical-align: middle;\n",
              "    }\n",
              "\n",
              "    .dataframe tbody tr th {\n",
              "        vertical-align: top;\n",
              "    }\n",
              "\n",
              "    .dataframe thead th {\n",
              "        text-align: right;\n",
              "    }\n",
              "</style>\n",
              "<table border=\"1\" class=\"dataframe\">\n",
              "  <thead>\n",
              "    <tr style=\"text-align: right;\">\n",
              "      <th></th>\n",
              "      <th>Floor Area (sqft)</th>\n",
              "      <th>Value ($1000)</th>\n",
              "    </tr>\n",
              "  </thead>\n",
              "  <tbody>\n",
              "    <tr>\n",
              "      <th>0</th>\n",
              "      <td>665.0</td>\n",
              "      <td>161.0</td>\n",
              "    </tr>\n",
              "    <tr>\n",
              "      <th>1</th>\n",
              "      <td>442.0</td>\n",
              "      <td>83.0</td>\n",
              "    </tr>\n",
              "    <tr>\n",
              "      <th>2</th>\n",
              "      <td>302.0</td>\n",
              "      <td>53.0</td>\n",
              "    </tr>\n",
              "    <tr>\n",
              "      <th>3</th>\n",
              "      <td>336.0</td>\n",
              "      <td>57.0</td>\n",
              "    </tr>\n",
              "    <tr>\n",
              "      <th>4</th>\n",
              "      <td>673.0</td>\n",
              "      <td>152.0</td>\n",
              "    </tr>\n",
              "  </tbody>\n",
              "</table>\n",
              "</div>\n",
              "    <div class=\"colab-df-buttons\">\n",
              "\n",
              "  <div class=\"colab-df-container\">\n",
              "    <button class=\"colab-df-convert\" onclick=\"convertToInteractive('df-5376da45-7cb2-4842-ad99-86a4d1be164e')\"\n",
              "            title=\"Convert this dataframe to an interactive table.\"\n",
              "            style=\"display:none;\">\n",
              "\n",
              "  <svg xmlns=\"http://www.w3.org/2000/svg\" height=\"24px\" viewBox=\"0 -960 960 960\">\n",
              "    <path d=\"M120-120v-720h720v720H120Zm60-500h600v-160H180v160Zm220 220h160v-160H400v160Zm0 220h160v-160H400v160ZM180-400h160v-160H180v160Zm440 0h160v-160H620v160ZM180-180h160v-160H180v160Zm440 0h160v-160H620v160Z\"/>\n",
              "  </svg>\n",
              "    </button>\n",
              "\n",
              "  <style>\n",
              "    .colab-df-container {\n",
              "      display:flex;\n",
              "      gap: 12px;\n",
              "    }\n",
              "\n",
              "    .colab-df-convert {\n",
              "      background-color: #E8F0FE;\n",
              "      border: none;\n",
              "      border-radius: 50%;\n",
              "      cursor: pointer;\n",
              "      display: none;\n",
              "      fill: #1967D2;\n",
              "      height: 32px;\n",
              "      padding: 0 0 0 0;\n",
              "      width: 32px;\n",
              "    }\n",
              "\n",
              "    .colab-df-convert:hover {\n",
              "      background-color: #E2EBFA;\n",
              "      box-shadow: 0px 1px 2px rgba(60, 64, 67, 0.3), 0px 1px 3px 1px rgba(60, 64, 67, 0.15);\n",
              "      fill: #174EA6;\n",
              "    }\n",
              "\n",
              "    .colab-df-buttons div {\n",
              "      margin-bottom: 4px;\n",
              "    }\n",
              "\n",
              "    [theme=dark] .colab-df-convert {\n",
              "      background-color: #3B4455;\n",
              "      fill: #D2E3FC;\n",
              "    }\n",
              "\n",
              "    [theme=dark] .colab-df-convert:hover {\n",
              "      background-color: #434B5C;\n",
              "      box-shadow: 0px 1px 3px 1px rgba(0, 0, 0, 0.15);\n",
              "      filter: drop-shadow(0px 1px 2px rgba(0, 0, 0, 0.3));\n",
              "      fill: #FFFFFF;\n",
              "    }\n",
              "  </style>\n",
              "\n",
              "    <script>\n",
              "      const buttonEl =\n",
              "        document.querySelector('#df-5376da45-7cb2-4842-ad99-86a4d1be164e button.colab-df-convert');\n",
              "      buttonEl.style.display =\n",
              "        google.colab.kernel.accessAllowed ? 'block' : 'none';\n",
              "\n",
              "      async function convertToInteractive(key) {\n",
              "        const element = document.querySelector('#df-5376da45-7cb2-4842-ad99-86a4d1be164e');\n",
              "        const dataTable =\n",
              "          await google.colab.kernel.invokeFunction('convertToInteractive',\n",
              "                                                    [key], {});\n",
              "        if (!dataTable) return;\n",
              "\n",
              "        const docLinkHtml = 'Like what you see? Visit the ' +\n",
              "          '<a target=\"_blank\" href=https://colab.research.google.com/notebooks/data_table.ipynb>data table notebook</a>'\n",
              "          + ' to learn more about interactive tables.';\n",
              "        element.innerHTML = '';\n",
              "        dataTable['output_type'] = 'display_data';\n",
              "        await google.colab.output.renderOutput(dataTable, element);\n",
              "        const docLink = document.createElement('div');\n",
              "        docLink.innerHTML = docLinkHtml;\n",
              "        element.appendChild(docLink);\n",
              "      }\n",
              "    </script>\n",
              "  </div>\n",
              "\n",
              "\n",
              "<div id=\"df-6f621160-0957-4a53-8a8b-7b12674fe1f0\">\n",
              "  <button class=\"colab-df-quickchart\" onclick=\"quickchart('df-6f621160-0957-4a53-8a8b-7b12674fe1f0')\"\n",
              "            title=\"Suggest charts\"\n",
              "            style=\"display:none;\">\n",
              "\n",
              "<svg xmlns=\"http://www.w3.org/2000/svg\" height=\"24px\"viewBox=\"0 0 24 24\"\n",
              "     width=\"24px\">\n",
              "    <g>\n",
              "        <path d=\"M19 3H5c-1.1 0-2 .9-2 2v14c0 1.1.9 2 2 2h14c1.1 0 2-.9 2-2V5c0-1.1-.9-2-2-2zM9 17H7v-7h2v7zm4 0h-2V7h2v10zm4 0h-2v-4h2v4z\"/>\n",
              "    </g>\n",
              "</svg>\n",
              "  </button>\n",
              "\n",
              "<style>\n",
              "  .colab-df-quickchart {\n",
              "      --bg-color: #E8F0FE;\n",
              "      --fill-color: #1967D2;\n",
              "      --hover-bg-color: #E2EBFA;\n",
              "      --hover-fill-color: #174EA6;\n",
              "      --disabled-fill-color: #AAA;\n",
              "      --disabled-bg-color: #DDD;\n",
              "  }\n",
              "\n",
              "  [theme=dark] .colab-df-quickchart {\n",
              "      --bg-color: #3B4455;\n",
              "      --fill-color: #D2E3FC;\n",
              "      --hover-bg-color: #434B5C;\n",
              "      --hover-fill-color: #FFFFFF;\n",
              "      --disabled-bg-color: #3B4455;\n",
              "      --disabled-fill-color: #666;\n",
              "  }\n",
              "\n",
              "  .colab-df-quickchart {\n",
              "    background-color: var(--bg-color);\n",
              "    border: none;\n",
              "    border-radius: 50%;\n",
              "    cursor: pointer;\n",
              "    display: none;\n",
              "    fill: var(--fill-color);\n",
              "    height: 32px;\n",
              "    padding: 0;\n",
              "    width: 32px;\n",
              "  }\n",
              "\n",
              "  .colab-df-quickchart:hover {\n",
              "    background-color: var(--hover-bg-color);\n",
              "    box-shadow: 0 1px 2px rgba(60, 64, 67, 0.3), 0 1px 3px 1px rgba(60, 64, 67, 0.15);\n",
              "    fill: var(--button-hover-fill-color);\n",
              "  }\n",
              "\n",
              "  .colab-df-quickchart-complete:disabled,\n",
              "  .colab-df-quickchart-complete:disabled:hover {\n",
              "    background-color: var(--disabled-bg-color);\n",
              "    fill: var(--disabled-fill-color);\n",
              "    box-shadow: none;\n",
              "  }\n",
              "\n",
              "  .colab-df-spinner {\n",
              "    border: 2px solid var(--fill-color);\n",
              "    border-color: transparent;\n",
              "    border-bottom-color: var(--fill-color);\n",
              "    animation:\n",
              "      spin 1s steps(1) infinite;\n",
              "  }\n",
              "\n",
              "  @keyframes spin {\n",
              "    0% {\n",
              "      border-color: transparent;\n",
              "      border-bottom-color: var(--fill-color);\n",
              "      border-left-color: var(--fill-color);\n",
              "    }\n",
              "    20% {\n",
              "      border-color: transparent;\n",
              "      border-left-color: var(--fill-color);\n",
              "      border-top-color: var(--fill-color);\n",
              "    }\n",
              "    30% {\n",
              "      border-color: transparent;\n",
              "      border-left-color: var(--fill-color);\n",
              "      border-top-color: var(--fill-color);\n",
              "      border-right-color: var(--fill-color);\n",
              "    }\n",
              "    40% {\n",
              "      border-color: transparent;\n",
              "      border-right-color: var(--fill-color);\n",
              "      border-top-color: var(--fill-color);\n",
              "    }\n",
              "    60% {\n",
              "      border-color: transparent;\n",
              "      border-right-color: var(--fill-color);\n",
              "    }\n",
              "    80% {\n",
              "      border-color: transparent;\n",
              "      border-right-color: var(--fill-color);\n",
              "      border-bottom-color: var(--fill-color);\n",
              "    }\n",
              "    90% {\n",
              "      border-color: transparent;\n",
              "      border-bottom-color: var(--fill-color);\n",
              "    }\n",
              "  }\n",
              "</style>\n",
              "\n",
              "  <script>\n",
              "    async function quickchart(key) {\n",
              "      const quickchartButtonEl =\n",
              "        document.querySelector('#' + key + ' button');\n",
              "      quickchartButtonEl.disabled = true;  // To prevent multiple clicks.\n",
              "      quickchartButtonEl.classList.add('colab-df-spinner');\n",
              "      try {\n",
              "        const charts = await google.colab.kernel.invokeFunction(\n",
              "            'suggestCharts', [key], {});\n",
              "      } catch (error) {\n",
              "        console.error('Error during call to suggestCharts:', error);\n",
              "      }\n",
              "      quickchartButtonEl.classList.remove('colab-df-spinner');\n",
              "      quickchartButtonEl.classList.add('colab-df-quickchart-complete');\n",
              "    }\n",
              "    (() => {\n",
              "      let quickchartButtonEl =\n",
              "        document.querySelector('#df-6f621160-0957-4a53-8a8b-7b12674fe1f0 button');\n",
              "      quickchartButtonEl.style.display =\n",
              "        google.colab.kernel.accessAllowed ? 'block' : 'none';\n",
              "    })();\n",
              "  </script>\n",
              "</div>\n",
              "\n",
              "    </div>\n",
              "  </div>\n"
            ],
            "application/vnd.google.colaboratory.intrinsic+json": {
              "type": "dataframe",
              "variable_name": "housing",
              "summary": "{\n  \"name\": \"housing\",\n  \"rows\": 149,\n  \"fields\": [\n    {\n      \"column\": \"Floor Area (sqft)\",\n      \"properties\": {\n        \"dtype\": \"number\",\n        \"std\": 120.46323762794907,\n        \"min\": 210.0,\n        \"max\": 691.0,\n        \"num_unique_values\": 127,\n        \"samples\": [\n          657.0,\n          612.0,\n          406.0\n        ],\n        \"semantic_type\": \"\",\n        \"description\": \"\"\n      }\n    },\n    {\n      \"column\": \"Value ($1000)\",\n      \"properties\": {\n        \"dtype\": \"number\",\n        \"std\": 34.54620562193783,\n        \"min\": 51.0,\n        \"max\": 179.0,\n        \"num_unique_values\": 85,\n        \"samples\": [\n          71.0,\n          161.0,\n          54.0\n        ],\n        \"semantic_type\": \"\",\n        \"description\": \"\"\n      }\n    }\n  ]\n}"
            }
          },
          "metadata": {},
          "execution_count": 17
        }
      ],
      "source": [
        "import numpy as np\n",
        "import pandas as pd\n",
        "import matplotlib.pyplot as plt\n",
        "from sklearn.linear_model import LinearRegression\n",
        "from sklearn.model_selection import train_test_split\n",
        "from sklearn.metrics import mean_squared_error, r2_score\n",
        "%matplotlib inline\n",
        "\n",
        "housing = pd.read_csv('housing.csv')\n",
        "\n",
        "housing.head()"
      ]
    },
    {
      "cell_type": "markdown",
      "source": [
        "The datasets consists of two columns Floor Area (sqft) and Value ($1000)"
      ],
      "metadata": {
        "id": "2dgCMlMFxETM"
      }
    },
    {
      "cell_type": "code",
      "source": [
        "#Checking for any null values in the csv\n",
        "housing.isnull().sum()"
      ],
      "metadata": {
        "colab": {
          "base_uri": "https://localhost:8080/"
        },
        "id": "IDMkgxEQxQIa",
        "outputId": "b1e0cb1e-cb98-4d40-9f52-7e18b14dc8eb"
      },
      "execution_count": 18,
      "outputs": [
        {
          "output_type": "execute_result",
          "data": {
            "text/plain": [
              "Floor Area (sqft)    0\n",
              "Value ($1000)        0\n",
              "dtype: int64"
            ]
          },
          "metadata": {},
          "execution_count": 18
        }
      ]
    },
    {
      "cell_type": "code",
      "source": [
        "#Splitting the dataset\n",
        "X = housing[['Floor Area (sqft)']]\n",
        "\n",
        "y = housing['Value ($1000)']\n",
        "#splitting the data set\n",
        "X_train, X_test, y_train, y_test = train_test_split(X,y,test_size=0.2, random_state=42)"
      ],
      "metadata": {
        "id": "4ICyMT2sxUEf"
      },
      "execution_count": 19,
      "outputs": []
    },
    {
      "cell_type": "markdown",
      "source": [
        "Setting **test_size** as 0.2 means we want to use 20% for testing data.\n",
        "\n",
        "**random_state** this param controls the shuffling applied to the data the number 42 has no special meaning. I am only following the instructions within the book this can be any integer desired.\n",
        "\n"
      ],
      "metadata": {
        "id": "oY64gAV9yDZP"
      }
    },
    {
      "cell_type": "code",
      "source": [
        "#creating a scatter plot with the data\n",
        "plt.scatter(X_train['Floor Area (sqft)'], y_train, s=10)\n",
        "plt.title('Housing Price vs Floor Area')\n",
        "plt.xlabel('Floor Area (sqft)')\n",
        "plt.ylabel('Price in $1000s')"
      ],
      "metadata": {
        "colab": {
          "base_uri": "https://localhost:8080/",
          "height": 489
        },
        "id": "J9BK-phzzYJE",
        "outputId": "c1812e79-226d-4516-99d5-d9586faaa4b3"
      },
      "execution_count": 20,
      "outputs": [
        {
          "output_type": "execute_result",
          "data": {
            "text/plain": [
              "Text(0, 0.5, 'Price in $1000s')"
            ]
          },
          "metadata": {},
          "execution_count": 20
        },
        {
          "output_type": "display_data",
          "data": {
            "text/plain": [
              "<Figure size 640x480 with 1 Axes>"
            ],
            "image/png": "[encoded data removed]"
          },
          "metadata": {}
        }
      ]
    },
    {
      "cell_type": "code",
      "source": [
        "#Training the model\n",
        "\n",
        "lr = LinearRegression()\n",
        "#fitting the training data to minimize cost function\n",
        "#This does not return a value, but it update the coef_ and intercept_ attributes\n",
        "lr.fit(X_train,y_train)\n",
        "\n",
        "print(lr.intercept_)\n",
        "print(lr.coef_)"
      ],
      "metadata": {
        "colab": {
          "base_uri": "https://localhost:8080/"
        },
        "id": "mKbCcbDt0gk9",
        "outputId": "78bb1d8d-11c0-4cfb-d148-2b641a3df263"
      },
      "execution_count": 21,
      "outputs": [
        {
          "output_type": "stream",
          "name": "stdout",
          "text": [
            "-29.6514648875731\n",
            "[0.2640654]\n"
          ]
        }
      ]
    },
    {
      "cell_type": "code",
      "source": [
        "#finding the predicted price the array takes floor area as values\n",
        "#we are trying to predict what the price may be.\n",
        "predicted_price = lr.predict([[250], [300]])\n",
        "print(predicted_price)"
      ],
      "metadata": {
        "colab": {
          "base_uri": "https://localhost:8080/"
        },
        "id": "3GJqnmYu1jhj",
        "outputId": "159e6ed9-df2e-4055-de3c-5a4a3110fd5a"
      },
      "execution_count": 22,
      "outputs": [
        {
          "output_type": "stream",
          "name": "stdout",
          "text": [
            "[36.3648842  49.56815401]\n"
          ]
        },
        {
          "output_type": "stream",
          "name": "stderr",
          "text": [
            "/usr/local/lib/python3.10/dist-packages/sklearn/base.py:439: UserWarning: X does not have valid feature names, but LinearRegression was fitted with feature names\n",
            "  warnings.warn(\n"
          ]
        }
      ]
    },
    {
      "cell_type": "code",
      "source": [
        "# Plotting the scatter plot of the training data\n",
        "# X_train['Floor Area (sqft)'] represents the feature (independent variable) - floor area of houses in square feet\n",
        "# y_train represents the target variable - price of the houses in $1000s\n",
        "# 's=10' specifies the size of the markers used in the scatter plot\n",
        "plt.scatter(X_train['Floor Area (sqft)'], y_train, s=10)\n",
        "\n",
        "# Predicting the house prices (y_pred) using the linear regression model 'lr' and the training data\n",
        "y_pred = lr.predict(X_train)\n",
        "\n",
        "# Plotting the regression line\n",
        "# X_train['Floor Area (sqft)'] is again the floor area which is the independent variable\n",
        "# y_pred is the predicted prices based on the linear regression model\n",
        "# This line represents the model's predictions across the range of floor area values\n",
        "plt.plot(X_train['Floor Area (sqft)'], y_pred, color='red')\n",
        "\n",
        "# Setting the title of the plot\n",
        "plt.title('Housing Price vs Floor Area')\n",
        "\n",
        "# Setting the label for the x-axis\n",
        "plt.xlabel('Floor Area (sqft)')\n",
        "\n",
        "# Setting the label for the y-axis\n",
        "plt.ylabel('Price in $1000s')\n",
        "\n",
        "# Displaying the plot\n",
        "plt.show()\n"
      ],
      "metadata": {
        "colab": {
          "base_uri": "https://localhost:8080/",
          "height": 472
        },
        "id": "83ttMHms2POX",
        "outputId": "8488f93d-b8cf-4a98-b327-765b3ce97337"
      },
      "execution_count": 23,
      "outputs": [
        {
          "output_type": "display_data",
          "data": {
            "text/plain": [
              "<Figure size 640x480 with 1 Axes>"
            ],
            "image/png": "[encoded data removed]"
          },
          "metadata": {}
        }
      ]
    },
    {
      "cell_type": "code",
      "source": [
        "# Calculating the Root Mean Squared Error (RMSE) between the actual and predicted house prices\n",
        "# y_train: actual prices of the houses in the training set\n",
        "# y_pred: predicted prices from the linear regression model\n",
        "# squared=False parameter calculates the square root of the mean squared error to get RMSE\n",
        "RMSE = mean_squared_error(y_train, y_pred, squared=False)\n",
        "\n",
        "# Calculating the coefficient of determination, also known as R-squared (r2)\n",
        "# It measures the proportion of the variance in the dependent variable that is predictable from the independent variable(s)\n",
        "# A higher r2 value indicates a better fit between the prediction and actual value\n",
        "r2 = r2_score(y_train, y_pred)\n",
        "\n",
        "# Printing the RMSE to evaluate the model performance\n",
        "# Lower RMSE values indicate a better fit of the model to the data\n",
        "print(\"RMSE:\", RMSE)\n",
        "\n",
        "# Printing the R-squared value to assess the model's explanatory power\n",
        "# Values closer to 1 indicate a model that perfectly explains the variability in the target variable\n",
        "print(\"R-squared:\", r2)\n"
      ],
      "metadata": {
        "colab": {
          "base_uri": "https://localhost:8080/"
        },
        "id": "1v2NVGHY3vMt",
        "outputId": "9e5dcf76-bb04-43f5-c2e6-61db2fb254b0"
      },
      "execution_count": 24,
      "outputs": [
        {
          "output_type": "stream",
          "name": "stdout",
          "text": [
            "RMSE: 11.426788012892116\n",
            "R-squared: 0.8827389714759885\n"
          ]
        }
      ]
    },
    {
      "cell_type": "code",
      "source": [
        "# Predicting the house prices for the test set using the linear regression model 'lr'\n",
        "# X_test contains the features (independent variables) of the test set\n",
        "y_pred_test = lr.predict(X_test)\n",
        "\n",
        "# Calculating the Root Mean Squared Error (RMSE) for the test set predictions\n",
        "# y_test: actual prices of the houses in the test set\n",
        "# y_pred_test: predicted prices from the model for the test set\n",
        "# The squared=False parameter indicates that the square root of the MSE should be returned, giving us the RMSE\n",
        "RMSE = mean_squared_error(y_test, y_pred_test, squared=False)\n",
        "\n",
        "# Calculating the coefficient of determination, R-squared (r2), for the test set predictions\n",
        "# This metric gives us an indication of the goodness of fit of the model\n",
        "# It measures the proportion of variance in the dependent variable that can be predicted from the independent variable(s)\n",
        "r2 = r2_score(y_test, y_pred_test)\n",
        "\n",
        "# Printing the RMSE to evaluate the accuracy of the model on the test set\n",
        "# A lower RMSE indicates better performance, meaning the model's predictions are closer to the actual values\n",
        "print(\"Test RMSE:\", RMSE)\n",
        "\n",
        "# Printing the R-squared value to assess how well the model explains the variance in the test set\n",
        "# Values closer to 1 indicate a higher proportion of variance in the dependent variable being predictable from the independent variables\n",
        "print(\"Test R-squared:\", r2)\n"
      ],
      "metadata": {
        "colab": {
          "base_uri": "https://localhost:8080/"
        },
        "id": "0kcuX2eC4REP",
        "outputId": "756ccedf-d914-4ff8-93f2-a57e1b60a7b2"
      },
      "execution_count": 25,
      "outputs": [
        {
          "output_type": "stream",
          "name": "stdout",
          "text": [
            "Test RMSE: 10.413298895214577\n",
            "Test R-squared: 0.9229207556091985\n"
          ]
        }
      ]
    },
    {
      "cell_type": "markdown",
      "source": [
        "# 6.4 Polynomial Regression\n",
        "\n",
        "\n",
        "The linear regression socred in the previou s section were good, but could they be better?\n",
        "\n",
        "Look at the scatterplot above it looks like tyhe values in the bottom left of the chart follows more of a quadratic curve rather than a straight regression line.\n",
        "\n",
        "This is where polynominal regression comes in we can use it to test to see if the quadratic curve would fit this better.\n",
        "\n",
        "The objective of polynominal regressionalgo is to find a set of coefficients that resut in the smallest MSE. We can do that with sklearn."
      ],
      "metadata": {
        "id": "eker4ZgQ5Qpc"
      }
    },
    {
      "cell_type": "markdown",
      "source": [
        "# 6.5 Polynomial Regression with Scikit-Learn\n",
        "\n",
        "It is similiar in fashin to the **LinearRegression** model because both does use the **LinearRegression** class. This is because we can transform a polynomial equation into a linear equation.\n",
        "\n",
        "Fortunately instead of doing all of the mathematics by hand from adding additional features to the equation. We can use **PolynomialFeatures**"
      ],
      "metadata": {
        "id": "URbIBaM31xAF"
      }
    },
    {
      "cell_type": "code",
      "source": [
        "# Importing the necessary module\n",
        "from sklearn.preprocessing import PolynomialFeatures\n",
        "\n",
        "# Creating an instance of PolynomialFeatures class with degree=2\n",
        "poly_features = PolynomialFeatures(degree=2)\n",
        "\n",
        "# Transforming the input features X_train into polynomial features\n",
        "X_trained_transformed = poly_features.fit_transform(X_train)\n",
        "\n",
        "# Printing the transformed features\n",
        "print(X_trained_transformed[0])"
      ],
      "metadata": {
        "id": "tUozWZDd5WEY",
        "colab": {
          "base_uri": "https://localhost:8080/"
        },
        "outputId": "68c7a9c3-c05c-41e3-d180-af6e4dd24d49"
      },
      "execution_count": 26,
      "outputs": [
        {
          "output_type": "stream",
          "name": "stdout",
          "text": [
            "[1.00000e+00 6.91000e+02 4.77481e+05]\n"
          ]
        }
      ]
    },
    {
      "cell_type": "markdown",
      "source": [
        "**Above values explained**\n",
        "\n",
        "1.00000e+00 = 1 is the value for (floor area)$^0$\n",
        "\n",
        "6.91000e+02 = 691 is the value of (Floor area)$^1$\n",
        "\n",
        "4.77481e+05 = 477481 is the value of (Floors area)$^2$\n",
        "\n",
        "\n"
      ],
      "metadata": {
        "id": "liS6Yq-F3xwS"
      }
    },
    {
      "cell_type": "code",
      "source": [
        "# Creating an instance of the LinearRegression model\n",
        "pr = LinearRegression()\n",
        "\n",
        "# Training the LinearRegression model using the transformed training features (X_trained_transformed)\n",
        "# and corresponding target values (y_train)\n",
        "pr.fit(X_trained_transformed, y_train)\n",
        "\n",
        "# Printing the intercept of the linear regression model\n",
        "print(\"Intercept (bias term):\", pr.intercept_)\n",
        "\n",
        "# Printing the coefficients of the linear regression model\n",
        "print(\"Coefficients (weights for each feature):\", pr.coef_)\n"
      ],
      "metadata": {
        "colab": {
          "base_uri": "https://localhost:8080/"
        },
        "id": "00cVR_oU3M3F",
        "outputId": "e1ca4616-1c76-4b59-99d4-a7b854f1259b"
      },
      "execution_count": 27,
      "outputs": [
        {
          "output_type": "stream",
          "name": "stdout",
          "text": [
            "Intercept (bias term): 70.91161404547067\n",
            "Coefficients (weights for each feature): [ 0.         -0.18658297  0.00047343]\n"
          ]
        }
      ]
    },
    {
      "cell_type": "markdown",
      "source": [
        "**Above values explained**\n",
        "\n",
        "Based on these params the model estimates that the relationship between house price and floor area can be expressed as:\n",
        "\n",
        "house price = 70.9+0*(Floor Area)$^0$-0.187*(Floor Area)$^1$+0.000473*(Floor area)$^2$\n",
        "\n",
        "Now that we have our coeffiocients above we can now predict the housing price by replacing the floor area with the value of the fllor area for example:\n",
        "\n",
        "house price = 70.9+0*(250)$^0$-0.187*(250)$^1$+0.000473*(250)$^2$\n",
        "\n",
        "house price=54.7125\n",
        "\n",
        "This can be acocmplished within code as well by using the models **predict()** method.\n",
        "\n",
        "See below:"
      ],
      "metadata": {
        "id": "Oh-2XgUV6j4N"
      }
    },
    {
      "cell_type": "code",
      "source": [
        "# Transforming the floor area value of 250 into a 2D array using the polynomial features transformation.\n",
        "num_transformed = poly_features.transform([[250]])\n",
        "\n",
        "# Using the trained linear regression model 'pr' to predict the price based on the transformed floor area.\n",
        "predicted_price = pr.predict(num_transformed)\n",
        "\n",
        "# Displaying the predicted price calculated by the linear regression model.\n",
        "print(predicted_price)\n"
      ],
      "metadata": {
        "colab": {
          "base_uri": "https://localhost:8080/"
        },
        "id": "Yy3VOsS74qAX",
        "outputId": "7e8c4b19-1641-405c-98d2-7650edf899bc"
      },
      "execution_count": 28,
      "outputs": [
        {
          "output_type": "stream",
          "name": "stdout",
          "text": [
            "[53.85545111]\n"
          ]
        },
        {
          "output_type": "stream",
          "name": "stderr",
          "text": [
            "/usr/local/lib/python3.10/dist-packages/sklearn/base.py:439: UserWarning: X does not have valid feature names, but PolynomialFeatures was fitted with feature names\n",
            "  warnings.warn(\n"
          ]
        }
      ]
    },
    {
      "cell_type": "code",
      "source": [
        "# Plotting a scatter plot to visualize the relationship between floor area and house prices.\n",
        "plt.scatter(X_train['Floor Area (sqft)'], y_train, s=10)\n",
        "\n",
        "# Predicting house prices using the trained linear regression model and plotting the curve.\n",
        "y_pred = pr.predict(X_trained_transformed)\n",
        "# Sorting the predicted values based on the floor area for a smooth curve.\n",
        "sorted_zip = sorted(zip(X_train['Floor Area (sqft)'], y_pred))\n",
        "X_train_sorted, y_pred_sorted = zip(*sorted_zip)\n",
        "# Plotting the curve using the sorted floor area values and corresponding predicted prices.\n",
        "plt.plot(X_train_sorted, y_pred_sorted)\n",
        "\n",
        "# Adding labels to the chart for clarity.\n",
        "plt.title('Housing Price vs Floor Area')\n",
        "plt.xlabel('Floor Area (sqft)')\n",
        "plt.ylabel('Price in $1000s')\n"
      ],
      "metadata": {
        "colab": {
          "base_uri": "https://localhost:8080/",
          "height": 489
        },
        "id": "C0qcFMCl9fY8",
        "outputId": "96feda9b-4a19-486c-f494-b31fc234b7bb"
      },
      "execution_count": 29,
      "outputs": [
        {
          "output_type": "execute_result",
          "data": {
            "text/plain": [
              "Text(0, 0.5, 'Price in $1000s')"
            ]
          },
          "metadata": {},
          "execution_count": 29
        },
        {
          "output_type": "display_data",
          "data": {
            "text/plain": [
              "<Figure size 640x480 with 1 Axes>"
            ],
            "image/png": "[encoded data removed]"
          },
          "metadata": {}
        }
      ]
    },
    {
      "cell_type": "code",
      "source": [
        "# Importing necessary functions from sklearn.metrics module for evaluation\n",
        "from sklearn.metrics import mean_squared_error, r2_score\n",
        "\n",
        "# Calculating Root Mean Squared Error (RMSE) between actual and predicted values on the training subset\n",
        "RMSE = mean_squared_error(y_train, y_pred, squared=False)\n",
        "# Calculating R-squared (coefficient of determination) between actual and predicted values on the training subset\n",
        "r2 = r2_score(y_train, y_pred)\n",
        "\n",
        "# Printing the RMSE (Root Mean Squared Error)\n",
        "print(\"Root Mean Squared Error (RMSE):\", RMSE)\n",
        "# Printing the R-squared value\n",
        "print(\"R-squared (R2) Score:\", r2)\n"
      ],
      "metadata": {
        "colab": {
          "base_uri": "https://localhost:8080/"
        },
        "id": "yvTZqv8mAOiR",
        "outputId": "f6cd76a5-6d0f-4a83-dcfa-73ddbbf686f8"
      },
      "execution_count": 30,
      "outputs": [
        {
          "output_type": "stream",
          "name": "stdout",
          "text": [
            "Root Mean Squared Error (RMSE): 8.522835594847724\n",
            "R-squared (R2) Score: 0.9347660644643525\n"
          ]
        }
      ]
    },
    {
      "cell_type": "code",
      "source": [
        "# Transforming the features of the test subset using the same polynomial features transformation\n",
        "X_test_transformed = poly_features.transform(X_test)\n",
        "\n",
        "# Predicting target values for the test subset using the trained linear regression model\n",
        "y_pred_test = pr.predict(X_test_transformed)\n",
        "\n",
        "# Calculating Root Mean Squared Error (RMSE) between actual and predicted values on the test subset\n",
        "RMSE = mean_squared_error(y_test, y_pred_test, squared=False)\n",
        "# Calculating R-squared (coefficient of determination) between actual and predicted values on the test subset\n",
        "r2 = r2_score(y_test, y_pred_test)\n",
        "\n",
        "# Printing the RMSE (Root Mean Squared Error)\n",
        "print(\"Root Mean Squared Error (RMSE) on test subset:\", RMSE)\n",
        "# Printing the R-squared value on test subset\n",
        "print(\"R-squared (R2) Score on test subset:\", r2)\n"
      ],
      "metadata": {
        "colab": {
          "base_uri": "https://localhost:8080/"
        },
        "id": "ZYO76zsJBvho",
        "outputId": "edcb13ec-6e7d-4243-a3f0-d6c53544a0de"
      },
      "execution_count": 31,
      "outputs": [
        {
          "output_type": "stream",
          "name": "stdout",
          "text": [
            "Root Mean Squared Error (RMSE) on test subset: 6.425083465019809\n",
            "R-squared (R2) Score on test subset: 0.9706560666441122\n"
          ]
        }
      ]
    },
    {
      "cell_type": "markdown",
      "source": [
        "# 6.6 Pipeline\n",
        "\n",
        "In this section we can combine what we learned in the last section into 1. to do that we need to do 2 things first we need to create additional features using the **PolynomialFeatures** class after creating the features we pass them to linear regression algo to train our model.\n",
        "\n",
        "These can be combined using **Pipeline**\n",
        "\n",
        "See code below:\n",
        "\n"
      ],
      "metadata": {
        "id": "7O09EMOjDl3_"
      }
    },
    {
      "cell_type": "code",
      "source": [
        "from sklearn.pipeline import Pipeline\n",
        "\n",
        "#creating the pipeline\n",
        "pipeline = Pipeline([('poly', PolynomialFeatures(degree=2)), ('model', LinearRegression())])\n",
        "\n",
        "#training the model\n",
        "pipeline.fit(X_train, y_train)"
      ],
      "metadata": {
        "colab": {
          "base_uri": "https://localhost:8080/",
          "height": 171
        },
        "id": "a13rBClvCX7j",
        "outputId": "bca078dc-ace6-4af1-9504-746c2be09145"
      },
      "execution_count": 33,
      "outputs": [
        {
          "output_type": "execute_result",
          "data": {
            "text/plain": [
              "Pipeline(steps=[('poly', PolynomialFeatures()), ('model', LinearRegression())])"
            ],
            "text/html": [
              "<style>#sk-container-id-1 {color: black;background-color: white;}#sk-container-id-1 pre{padding: 0;}#sk-container-id-1 div.sk-toggleable {background-color: white;}#sk-container-id-1 label.sk-toggleable__label {cursor: pointer;display: block;width: 100%;margin-bottom: 0;padding: 0.3em;box-sizing: border-box;text-align: center;}#sk-container-id-1 label.sk-toggleable__label-arrow:before {content: \"▸\";float: left;margin-right: 0.25em;color: #696969;}#sk-container-id-1 label.sk-toggleable__label-arrow:hover:before {color: black;}#sk-container-id-1 div.sk-estimator:hover label.sk-toggleable__label-arrow:before {color: black;}#sk-container-id-1 div.sk-toggleable__content {max-height: 0;max-width: 0;overflow: hidden;text-align: left;background-color: #f0f8ff;}#sk-container-id-1 div.sk-toggleable__content pre {margin: 0.2em;color: black;border-radius: 0.25em;background-color: #f0f8ff;}#sk-container-id-1 input.sk-toggleable__control:checked~div.sk-toggleable__content {max-height: 200px;max-width: 100%;overflow: auto;}#sk-container-id-1 input.sk-toggleable__control:checked~label.sk-toggleable__label-arrow:before {content: \"▾\";}#sk-container-id-1 div.sk-estimator input.sk-toggleable__control:checked~label.sk-toggleable__label {background-color: #d4ebff;}#sk-container-id-1 div.sk-label input.sk-toggleable__control:checked~label.sk-toggleable__label {background-color: #d4ebff;}#sk-container-id-1 input.sk-hidden--visually {border: 0;clip: rect(1px 1px 1px 1px);clip: rect(1px, 1px, 1px, 1px);height: 1px;margin: -1px;overflow: hidden;padding: 0;position: absolute;width: 1px;}#sk-container-id-1 div.sk-estimator {font-family: monospace;background-color: #f0f8ff;border: 1px dotted black;border-radius: 0.25em;box-sizing: border-box;margin-bottom: 0.5em;}#sk-container-id-1 div.sk-estimator:hover {background-color: #d4ebff;}#sk-container-id-1 div.sk-parallel-item::after {content: \"\";width: 100%;border-bottom: 1px solid gray;flex-grow: 1;}#sk-container-id-1 div.sk-label:hover label.sk-toggleable__label {background-color: #d4ebff;}#sk-container-id-1 div.sk-serial::before {content: \"\";position: absolute;border-left: 1px solid gray;box-sizing: border-box;top: 0;bottom: 0;left: 50%;z-index: 0;}#sk-container-id-1 div.sk-serial {display: flex;flex-direction: column;align-items: center;background-color: white;padding-right: 0.2em;padding-left: 0.2em;position: relative;}#sk-container-id-1 div.sk-item {position: relative;z-index: 1;}#sk-container-id-1 div.sk-parallel {display: flex;align-items: stretch;justify-content: center;background-color: white;position: relative;}#sk-container-id-1 div.sk-item::before, #sk-container-id-1 div.sk-parallel-item::before {content: \"\";position: absolute;border-left: 1px solid gray;box-sizing: border-box;top: 0;bottom: 0;left: 50%;z-index: -1;}#sk-container-id-1 div.sk-parallel-item {display: flex;flex-direction: column;z-index: 1;position: relative;background-color: white;}#sk-container-id-1 div.sk-parallel-item:first-child::after {align-self: flex-end;width: 50%;}#sk-container-id-1 div.sk-parallel-item:last-child::after {align-self: flex-start;width: 50%;}#sk-container-id-1 div.sk-parallel-item:only-child::after {width: 0;}#sk-container-id-1 div.sk-dashed-wrapped {border: 1px dashed gray;margin: 0 0.4em 0.5em 0.4em;box-sizing: border-box;padding-bottom: 0.4em;background-color: white;}#sk-container-id-1 div.sk-label label {font-family: monospace;font-weight: bold;display: inline-block;line-height: 1.2em;}#sk-container-id-1 div.sk-label-container {text-align: center;}#sk-container-id-1 div.sk-container {/* jupyter's `normalize.less` sets `[hidden] { display: none; }` but bootstrap.min.css set `[hidden] { display: none !important; }` so we also need the `!important` here to be able to override the default hidden behavior on the sphinx rendered scikit-learn.org. See: https://github.com/scikit-learn/scikit-learn/issues/21755 */display: inline-block !important;position: relative;}#sk-container-id-1 div.sk-text-repr-fallback {display: none;}</style><div id=\"sk-container-id-1\" class=\"sk-top-container\"><div class=\"sk-text-repr-fallback\"><pre>Pipeline(steps=[(&#x27;poly&#x27;, PolynomialFeatures()), (&#x27;model&#x27;, LinearRegression())])</pre><b>In a Jupyter environment, please rerun this cell to show the HTML representation or trust the notebook. <br />On GitHub, the HTML representation is unable to render, please try loading this page with nbviewer.org.</b></div><div class=\"sk-container\" hidden><div class=\"sk-item sk-dashed-wrapped\"><div class=\"sk-label-container\"><div class=\"sk-label sk-toggleable\"><input class=\"sk-toggleable__control sk-hidden--visually\" id=\"sk-estimator-id-1\" type=\"checkbox\" ><label for=\"sk-estimator-id-1\" class=\"sk-toggleable__label sk-toggleable__label-arrow\">Pipeline</label><div class=\"sk-toggleable__content\"><pre>Pipeline(steps=[(&#x27;poly&#x27;, PolynomialFeatures()), (&#x27;model&#x27;, LinearRegression())])</pre></div></div></div><div class=\"sk-serial\"><div class=\"sk-item\"><div class=\"sk-estimator sk-toggleable\"><input class=\"sk-toggleable__control sk-hidden--visually\" id=\"sk-estimator-id-2\" type=\"checkbox\" ><label for=\"sk-estimator-id-2\" class=\"sk-toggleable__label sk-toggleable__label-arrow\">PolynomialFeatures</label><div class=\"sk-toggleable__content\"><pre>PolynomialFeatures()</pre></div></div></div><div class=\"sk-item\"><div class=\"sk-estimator sk-toggleable\"><input class=\"sk-toggleable__control sk-hidden--visually\" id=\"sk-estimator-id-3\" type=\"checkbox\" ><label for=\"sk-estimator-id-3\" class=\"sk-toggleable__label sk-toggleable__label-arrow\">LinearRegression</label><div class=\"sk-toggleable__content\"><pre>LinearRegression()</pre></div></div></div></div></div></div></div>"
            ]
          },
          "metadata": {},
          "execution_count": 33
        }
      ]
    },
    {
      "cell_type": "markdown",
      "source": [
        "First we instantiate the pipeline class and pass in two tuples to its constructor. The first tuple is for **PolynomialFeatures** estimator while the second is for the **LinearRegression** estimator.\n",
        "\n",
        "After instantiating we have to train our model by calling the object **fit()** method. When we do that sklearn calls the **fit_transform()** method of the **PolynomialFeatures** estimators and passes the output to the **fit()** method of **LinearRegression**\n",
        "\n",
        "Once that is done then the training is complete. we can now use the **predict()** method to try and make predictions"
      ],
      "metadata": {
        "id": "JT_1k_B55koe"
      }
    },
    {
      "cell_type": "code",
      "source": [
        "#prediction test\n",
        "print(pipeline.predict([[250]]))"
      ],
      "metadata": {
        "colab": {
          "base_uri": "https://localhost:8080/"
        },
        "id": "cR-MHEW46dwJ",
        "outputId": "da89b93a-96b0-4b69-de21-e7c8612ec221"
      },
      "execution_count": 35,
      "outputs": [
        {
          "output_type": "stream",
          "name": "stdout",
          "text": [
            "[53.85545111]\n"
          ]
        },
        {
          "output_type": "stream",
          "name": "stderr",
          "text": [
            "/usr/local/lib/python3.10/dist-packages/sklearn/base.py:439: UserWarning: X does not have valid feature names, but PolynomialFeatures was fitted with feature names\n",
            "  warnings.warn(\n"
          ]
        }
      ]
    },
    {
      "cell_type": "code",
      "source": [
        "# Evaluating the model on the training set\n",
        "\n",
        "# Predicting target values for the training set using the trained model (pipeline)\n",
        "y_pred = pipeline.predict(X_train)\n",
        "\n",
        "# Calculating Root Mean Squared Error (RMSE) between actual and predicted values on the training set\n",
        "print(\"Root Mean Squared Error (RMSE) on training set:\", mean_squared_error(y_train, y_pred, squared=False))\n",
        "\n",
        "# Calculating R-squared (coefficient of determination) between actual and predicted values on the training set\n",
        "print(\"R-squared (R2) Score on training set:\", r2_score(y_train, y_pred))\n",
        "\n",
        "\n",
        "# Evaluating the model on the test set\n",
        "\n",
        "# Predicting target values for the test set using the trained model (pipeline)\n",
        "y_pred_test = pipeline.predict(X_test)\n",
        "\n",
        "# Calculating Root Mean Squared Error (RMSE) between actual and predicted values on the test set\n",
        "print(\"Root Mean Squared Error (RMSE) on test set:\", mean_squared_error(y_test, y_pred_test, squared=False))\n",
        "\n",
        "# Calculating R-squared (coefficient of determination) between actual and predicted values on the test set\n",
        "print(\"R-squared (R2) Score on test set:\", r2_score(y_test, y_pred_test))\n"
      ],
      "metadata": {
        "colab": {
          "base_uri": "https://localhost:8080/"
        },
        "id": "o_bluBaT6ic-",
        "outputId": "cbe2d20e-0865-42cd-e425-8a26dcfef561"
      },
      "execution_count": 39,
      "outputs": [
        {
          "output_type": "stream",
          "name": "stdout",
          "text": [
            "Root Mean Squared Error (RMSE) on training set: 8.522835594847724\n",
            "R-squared (R2) Score on training set: 0.9347660644643525\n",
            "Root Mean Squared Error (RMSE) on test set: 6.425083465019809\n",
            "R-squared (R2) Score on test set: 0.9706560666441122\n"
          ]
        }
      ]
    },
    {
      "cell_type": "markdown",
      "source": [
        "You can see how the values that are output here match the same values that we were getting previously without using **pipeline** using pipeline now streamlines the process substantially. We no longer need to store the output of **PolynomialFeatures** class."
      ],
      "metadata": {
        "id": "jptA9WbQ8JJO"
      }
    },
    {
      "cell_type": "markdown",
      "source": [
        "# 6.7 Cross-Validation\n",
        "\n",
        "Besides simplifying our work flow **pipeline** also helps to prevent data leakage when we do **cross-validation**\n",
        "\n",
        "Data leaks occur when information from the outside of our training set such as test sets is used to train the model.\n",
        "\n",
        "when discusssing preprocssessing previously we mentioned that we should only call the transform() method on the test set and not the fit() or fit_transform() method. this ensures that data from the test set is not used to train the model which is the correct approach.\n",
        "\n",
        "the same applies to cross-validation.\n",
        "\n",
        "If we need to do any data preprocessing on our data-set we should call the fit() or fit_transform() method on the k1 training folds and only call the transform() or predict() method on the validation fold().\n",
        "\n",
        "Doing all of the above would be far too tedious luckily we can accomplish all of it with pipeline.\n",
        "\n",
        "see code below:"
      ],
      "metadata": {
        "id": "pn4lxom_8yoc"
      }
    },
    {
      "cell_type": "code",
      "source": [
        "# Importing necessary function from sklearn.model_selection module for cross-validation\n",
        "from sklearn.model_selection import cross_val_score\n",
        "\n",
        "# Using cross-validation to evaluate the performance of the model\n",
        "# cv is the number of folds, which determines how the dataset is split into train-test sets\n",
        "# Here, cv=3 means the dataset is split into 3 equal-sized folds for cross-validation\n",
        "# pipeline represents the machine learning model to be evaluated (e.g., a regression or classification model)\n",
        "# X_train and y_train are the features and target values of the training dataset, respectively\n",
        "# scoring=\"neg_root_mean_squared_error\" specifies the evaluation metric to use, which is negative root mean squared error (RMSE)\n",
        "# Cross-validation computes the RMSE for each fold and returns an array of scores\n",
        "scores = cross_val_score(pipeline, X_train, y_train, cv=3, scoring=\"neg_root_mean_squared_error\")\n",
        "\n",
        "# Calculating the mean of the negative RMSE scores obtained from cross-validation\n",
        "# Negative RMSE is used because cross_val_score returns negative values by default\n",
        "# Taking the mean gives an overall assessment of the model's performance across all folds\n",
        "neg_rmse = scores.mean()\n",
        "\n",
        "print(neg_rmse)"
      ],
      "metadata": {
        "colab": {
          "base_uri": "https://localhost:8080/"
        },
        "id": "terG-SGr8k0Q",
        "outputId": "a1c391d5-4b69-46a1-9008-6a39d6da58e9"
      },
      "execution_count": 40,
      "outputs": [
        {
          "output_type": "stream",
          "name": "stdout",
          "text": [
            "-8.615541039554303\n"
          ]
        }
      ]
    },
    {
      "cell_type": "markdown",
      "source": [
        "Scoring criteria that is passed in as a string can be found at this URL: https://scikit-learn.org/stable/modules/model_evaluation.html"
      ],
      "metadata": {
        "id": "t0qobSE2_fYl"
      }
    },
    {
      "cell_type": "code",
      "source": [
        "# we can also use the cross_val_score to get the r2 score\n",
        "scores = cross_val_score(pipeline, X_train, y_train, cv=3, scoring='r2')\n",
        "r2 = scores.mean()\n",
        "\n",
        "print(r2)"
      ],
      "metadata": {
        "colab": {
          "base_uri": "https://localhost:8080/"
        },
        "id": "OrReh-wv_lh9",
        "outputId": "f0c5046a-928f-454c-eb01-e1fbc3a03821"
      },
      "execution_count": 42,
      "outputs": [
        {
          "output_type": "stream",
          "name": "stdout",
          "text": [
            "0.9291077625814611\n"
          ]
        }
      ]
    }
  ]
}